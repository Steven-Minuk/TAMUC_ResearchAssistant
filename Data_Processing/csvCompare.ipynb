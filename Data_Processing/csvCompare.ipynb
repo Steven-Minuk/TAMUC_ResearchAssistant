{
 "cells": [
  {
   "cell_type": "code",
   "execution_count": 6,
   "metadata": {},
   "outputs": [
    {
     "name": "stdout",
     "output_type": "stream",
     "text": [
      "      Name  Age         City\n",
      "0     John   25     New York\n",
      "1    Emily   30  Los Angeles\n",
      "2  Michael   45      Chicago\n",
      "      Name  Age           City\n",
      "0     John   25       New York\n",
      "1     Emma   35  San Francisco\n",
      "2  Michael   45        Chicago\n",
      "Differences between file1 and file2:\n",
      "    Name         Age               City               \n",
      "    self other  self other         self          other\n",
      "1  Emily  Emma  30.0  35.0  Los Angeles  San Francisco\n"
     ]
    }
   ],
   "source": [
    "import pandas as pd\n",
    "\n",
    "# Read CSV files\n",
    "df1 = pd.read_csv('E:\\Data_Processing\\\\csvCompare1.csv')\n",
    "df2 = pd.read_csv('E:\\Data_Processing\\\\csvCompare2.csv')\n",
    "\n",
    "# Compare dataframes\n",
    "diff = df1.compare(df2)\n",
    "\n",
    "print(df1)\n",
    "print(df2)\n",
    "\n",
    "# Print the differences\n",
    "print(\"Differences between file1 and file2:\")\n",
    "print(diff)"
   ]
  },
  {
   "cell_type": "code",
   "execution_count": 1,
   "metadata": {},
   "outputs": [
    {
     "name": "stderr",
     "output_type": "stream",
     "text": [
      "C:\\Users\\minuk_67djcs9\\AppData\\Local\\Temp\\ipykernel_26100\\3449061339.py:4: DtypeWarning: Columns (15) have mixed types. Specify dtype option on import or set low_memory=False.\n",
      "  df1 = pd.read_csv('E:\\Data_Processing\\\\0101_labeled_k_5.csv')\n",
      "C:\\Users\\minuk_67djcs9\\AppData\\Local\\Temp\\ipykernel_26100\\3449061339.py:5: DtypeWarning: Columns (15) have mixed types. Specify dtype option on import or set low_memory=False.\n",
      "  df2 = pd.read_csv('E:\\Data_Processing\\\\0901_labeled_k_5.csv')\n"
     ]
    },
    {
     "name": "stdout",
     "output_type": "stream",
     "text": [
      "Index(['srcIP', 'srcPort', 'dstIP', 'dstPort', 'npkt', 'pktSize0', 'pktSize1',\n",
      "       'pktSize2', 'pktSize3', 'pktSize4', 'pktTime0', 'pktTime1', 'pktTime2',\n",
      "       'pktTime3', 'c2s', 'taxonomy label'],\n",
      "      dtype='object')\n",
      "Differences between file1 and file2:\n",
      "77422\n",
      "    pktTime0            pktTime1            pktTime2            pktTime3  \\\n",
      "        self     other      self     other      self     other      self   \n",
      "3        NaN       NaN       NaN       NaN       NaN       NaN  0.000006   \n",
      "10       NaN       NaN       NaN       NaN       NaN       NaN  0.000054   \n",
      "11       NaN       NaN  0.000006  0.000006  0.193301  0.193301       NaN   \n",
      "22  0.225567  0.225567       NaN       NaN       NaN       NaN       NaN   \n",
      "23  0.241952  0.241952       NaN       NaN       NaN       NaN       NaN   \n",
      "\n",
      "              \n",
      "       other  \n",
      "3   0.000006  \n",
      "10  0.000054  \n",
      "11       NaN  \n",
      "22       NaN  \n",
      "23       NaN  \n"
     ]
    },
    {
     "data": {
      "text/plain": [
       "MultiIndex([('pktTime0',  'self'),\n",
       "            ('pktTime0', 'other'),\n",
       "            ('pktTime1',  'self'),\n",
       "            ('pktTime1', 'other'),\n",
       "            ('pktTime2',  'self'),\n",
       "            ('pktTime2', 'other'),\n",
       "            ('pktTime3',  'self'),\n",
       "            ('pktTime3', 'other')],\n",
       "           )"
      ]
     },
     "execution_count": 1,
     "metadata": {},
     "output_type": "execute_result"
    }
   ],
   "source": [
    "import pandas as pd\n",
    "\n",
    "# Read CSV files\n",
    "df1 = pd.read_csv('E:\\Data_Processing\\\\0101_labeled_k_5.csv')\n",
    "df2 = pd.read_csv('E:\\Data_Processing\\\\0901_labeled_k_5.csv')\n",
    "\n",
    "print(df2.columns)\n",
    "\n",
    "# Compare dataframes\n",
    "diff = df1.compare(df2)\n",
    "\n",
    "# Print the differences\n",
    "print(\"Differences between file1 and file2:\")\n",
    "print(len(diff))\n",
    "print(diff.head(5))\n",
    "diff.columns"
   ]
  },
  {
   "cell_type": "code",
   "execution_count": 2,
   "metadata": {},
   "outputs": [
    {
     "name": "stdout",
     "output_type": "stream",
     "text": [
      "Difference found: (['Emily', '30', 'Los Angeles'], ['Michael', '45', 'Chicago'])\n",
      "Difference found: (['Michael', '40', 'Chicago'], ['Emma', '35', 'San Francisco'])\n"
     ]
    }
   ],
   "source": [
    "import csv\n",
    "\n",
    "# Function to compare two CSV files\n",
    "def compare(file1, file2):\n",
    "    differences = []\n",
    "\n",
    "    # Open both CSV files in read mode\n",
    "    with open(file1, 'r') as csv_file1, open(file2, 'r') as csv_file2:\n",
    "        reader1 = csv.reader(csv_file1)\n",
    "        reader2 = csv.reader(csv_file2)\n",
    "\n",
    "        # Iterate over rows in both files simultaneously\n",
    "        for row1, row2 in zip(reader1, reader2):\n",
    "            if row1 != row2:\n",
    "                differences.append((row1, row2))\n",
    "\n",
    "    return differences\n",
    "\n",
    "# Define file paths\n",
    "file1 = 'E:\\Data_Processing\\csvCompare1.csv'\n",
    "file2 = 'E:\\Data_Processing\\csvCompare2.csv'\n",
    "\n",
    "# Call the compare_csv_files function and store the differences\n",
    "differences = compare(file1, file2)\n",
    "for diff in differences:\n",
    "    print(f\"Difference found: {diff}\")"
   ]
  },
  {
   "cell_type": "code",
   "execution_count": 15,
   "metadata": {},
   "outputs": [
    {
     "name": "stdout",
     "output_type": "stream",
     "text": [
      "     B          C      \n",
      "  self other self other\n",
      "0  NaN   NaN    7    10\n",
      "1  NaN   NaN    8    11\n",
      "2  6.0   7.0    9    12\n",
      "\n",
      "Length: 3\n"
     ]
    },
    {
     "data": {
      "text/plain": [
       "MultiIndex([('B',  'self'),\n",
       "            ('B', 'other'),\n",
       "            ('C',  'self'),\n",
       "            ('C', 'other')],\n",
       "           )"
      ]
     },
     "execution_count": 15,
     "metadata": {},
     "output_type": "execute_result"
    }
   ],
   "source": [
    "import pandas as pd\n",
    "\n",
    "# create two dataframes with different shapes and column names\n",
    "df1 = pd.DataFrame({'A': [1, 2, 3], 'B': [4.0, 5.0, 6], 'C': [7, 8, 9]})\n",
    "df2 = pd.DataFrame({'A': [1, 2, 3], 'B': [4, 5, 7], 'C': [10, 11, 12]})\n",
    "\n",
    "# compare dataframes\n",
    "diff = df1.compare(df2)\n",
    "\n",
    "# print differences\n",
    "print(diff)\n",
    "print(\"\\nLength:\", len(diff))\n",
    "diff.columns"
   ]
  }
 ],
 "metadata": {
  "kernelspec": {
   "display_name": "Python 3",
   "language": "python",
   "name": "python3"
  },
  "language_info": {
   "codemirror_mode": {
    "name": "ipython",
    "version": 3
   },
   "file_extension": ".py",
   "mimetype": "text/x-python",
   "name": "python",
   "nbconvert_exporter": "python",
   "pygments_lexer": "ipython3",
   "version": "3.9.2"
  }
 },
 "nbformat": 4,
 "nbformat_minor": 2
}
